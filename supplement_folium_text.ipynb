{
  "cells": [
    {
      "cell_type": "markdown",
      "metadata": {
        "id": "1s8GgozXFAPd"
      },
      "source": [
        "### Displaying Text on Folium Maps\n",
        "\n",
        "Folium supports [DivIcon](https://python-visualization.github.io/folium/latest/reference.html#folium.features.DivIcon) markers for creating text-markers. Using this, we can render text on a folium map easily. The example below an example of rendering markers with airport codes.\n",
        "\n",
        "<img src='https://courses.spatialthoughts.com/images/python_dataviz/folium_text.png' width=600/>"
      ]
    },
    {
      "cell_type": "code",
      "execution_count": 1,
      "metadata": {
        "id": "gq4OcXTNFAPf"
      },
      "outputs": [],
      "source": [
        "import os\n",
        "import folium\n",
        "from folium import Figure\n",
        "from folium.features import DivIcon\n",
        "import json"
      ]
    },
    {
      "cell_type": "code",
      "execution_count": 3,
      "metadata": {
        "id": "972KJRsuFAPf"
      },
      "outputs": [],
      "source": [
        "sfo = (37.616, -122.386)\n",
        "jfk = (40.645, -73.782)"
      ]
    },
    {
      "cell_type": "code",
      "execution_count": null,
      "metadata": {
        "id": "1Xz0NkLBFAPh"
      },
      "outputs": [],
      "source": [
        "fig = Figure(width=800, height=400)\n",
        "m = folium.Map(location=[39.83, -98.58], zoom_start=4)\n",
        "\n",
        "folium.Marker(\n",
        "    sfo,\n",
        "    popup='San Francisco International Airport',\n",
        "    icon=DivIcon(\n",
        "        icon_size=(150,36),\n",
        "        icon_anchor=(0,0),\n",
        "        html='<div style=\"font-size: 24pt\">SFO</div>',\n",
        "    )).add_to(m)\n",
        "\n",
        "folium.Marker(\n",
        "    jfk,\n",
        "    popup='John F. Kennedy International Airport',\n",
        "    icon=DivIcon(\n",
        "        icon_size=(150,36),\n",
        "        icon_anchor=(0,0),\n",
        "        html='<div style=\"font-size: 24pt\">JFK</div>',\n",
        "    )).add_to(m)\n",
        "\n",
        "\n",
        "fig.add_child(m)\n"
      ]
    },
    {
      "cell_type": "markdown",
      "metadata": {
        "id": "JeSKkXRIFAPk"
      },
      "source": [
        "----"
      ]
    }
  ],
  "metadata": {
    "colab": {
      "provenance": []
    },
    "kernelspec": {
      "display_name": "Python 3 (ipykernel)",
      "language": "python",
      "name": "python3"
    },
    "language_info": {
      "codemirror_mode": {
        "name": "ipython",
        "version": 3
      },
      "file_extension": ".py",
      "mimetype": "text/x-python",
      "name": "python",
      "nbconvert_exporter": "python",
      "pygments_lexer": "ipython3",
      "version": "3.10.5"
    }
  },
  "nbformat": 4,
  "nbformat_minor": 0
}